{
 "cells": [
  {
   "cell_type": "code",
   "execution_count": 1,
   "metadata": {},
   "outputs": [
    {
     "name": "stderr",
     "output_type": "stream",
     "text": [
      "Using TensorFlow backend.\n"
     ]
    }
   ],
   "source": [
    "import keras\n",
    "from keras.datasets import mnist\n",
    "from keras.models import Sequential  \n",
    "from keras.layers import Dense, Dropout, Flatten ,Conv2D, MaxPooling2D,Input\n",
    "from keras.layers.normalization import BatchNormalization\n",
    "from keras.layers.core import Dense, Dropout, Activation\n",
    "from sequeze import SqueezeExcite\n",
    "from keras.models import Model \n",
    "from keras import backend as K\n",
    "from keras.regularizers import l2\n",
    "from keras.optimizers import *"
   ]
  },
  {
   "cell_type": "markdown",
   "metadata": {},
   "source": [
    "#  first making the model as Alexnet with sequeze excitation "
   ]
  },
  {
   "cell_type": "code",
   "execution_count": 2,
   "metadata": {},
   "outputs": [],
   "source": [
    "def conv_block(n_class=10, init_lr = 0.01):\n",
    "    # layer 1\n",
    "    inputs = Input((28,28,1))\n",
    "    conv1 = Conv2D(filters=96, input_shape=(224,224,3), kernel_size=(11,11),activation = 'relu',strides=(4,4), padding='same')(inputs)\n",
    "    conv1 = Dropout(0.2)(conv1)\n",
    "    conv1 = SqueezeExcite(conv1, ratio=16, name='conv1')\n",
    "    pool1 = MaxPooling2D(pool_size=(2,2), strides=(2,2), padding='same')(conv1)\n",
    "    \n",
    "    # layer 2\n",
    "    conv2 = Conv2D(filters=256,kernel_size=(5,5),activation ='relu',strides=(1,1), padding='same')(pool1)\n",
    "    conv2 = Dropout(0.2)(conv2)\n",
    "    conv2 = SqueezeExcite(conv2, ratio=16, name='conv2')\n",
    "    pool2 = MaxPooling2D(pool_size=(2,2), strides=(2,2), padding='same')(conv2)\n",
    "    \n",
    "    # layer 3\n",
    "    conv3 = Conv2D(filters=512,kernel_size=(3,3),activation = 'relu',strides=(4,4), padding='same')(pool2)\n",
    "    conv3 = Dropout(0.2)(conv3)\n",
    "    conv3 = SqueezeExcite(conv3, ratio=16, name='conv3')\n",
    "    pool3 = MaxPooling2D(pool_size=(2,2), strides=(2,2), padding='same')(conv1)\n",
    "    \n",
    "    # layer 4\n",
    "    conv4 = Conv2D(filters=1024,kernel_size=(3,3),activation = 'relu',strides=(4,4), padding='same')(pool3)\n",
    "    conv4 = Dropout(0.2)(conv4)\n",
    "    conv4 = SqueezeExcite(conv4, ratio=16, name='conv4')\n",
    "    \n",
    "    # layer 5\n",
    "    conv5 = Conv2D(filters=1024,kernel_size=(3,3),activation = 'relu',strides=(4,4), padding='same')(conv4)\n",
    "    conv5 = Dropout(0.2)(conv5)\n",
    "    conv5 = SqueezeExcite(conv5, ratio=16, name='conv5')\n",
    "    pool5 = MaxPooling2D(pool_size=(2,2), strides=(2,2), padding='same')(conv5)\n",
    "    \n",
    "    # layer 6\n",
    "    conv6 = Flatten() (pool5)\n",
    "    conv6 = Dense(3072) (conv6)\n",
    "    conv6 = Activation('relu') (conv6)\n",
    "    conv6 = Dropout(0.4)(conv6)\n",
    "    \n",
    "    \n",
    "    # last o/p \n",
    "    conv7 = Dense(n_class)(conv6)\n",
    "    conv7 = Activation('softmax')(conv7)\n",
    "    \n",
    "    model = Model(input=inputs, output=conv7)\n",
    "    \n",
    "    model.compile(loss=\"categorical_crossentropy\", optimizer= Adam(lr=init_lr) , metrics=['accuracy'] )\n",
    "    \n",
    "    \n",
    "    return model \n",
    "    \n",
    "    "
   ]
  },
  {
   "cell_type": "markdown",
   "metadata": {},
   "source": [
    "#  as to check that our create model is created as is compile or not "
   ]
  },
  {
   "cell_type": "code",
   "execution_count": 3,
   "metadata": {},
   "outputs": [
    {
     "name": "stdout",
     "output_type": "stream",
     "text": [
      "<bound method Container.summary of <keras.engine.training.Model object at 0x000001984BDF1C50>>\n"
     ]
    },
    {
     "name": "stderr",
     "output_type": "stream",
     "text": [
      "C:\\Users\\vibhu\\Anaconda3\\envs\\tensorflow\\lib\\site-packages\\ipykernel_launcher.py:48: UserWarning: Update your `Model` call to the Keras 2 API: `Model(inputs=Tensor(\"in..., outputs=Tensor(\"ac...)`\n"
     ]
    }
   ],
   "source": [
    "model = conv_block()\n",
    "print(model.summary)"
   ]
  },
  {
   "cell_type": "markdown",
   "metadata": {},
   "source": [
    "#  Now loading apply our create on MNIST data ( by creating generator of images (keras library))"
   ]
  },
  {
   "cell_type": "code",
   "execution_count": 4,
   "metadata": {},
   "outputs": [
    {
     "name": "stdout",
     "output_type": "stream",
     "text": [
      "(10000,)\n",
      "(10000, 28, 28, 1)\n",
      "(10000, 10)\n",
      "(60000, 28, 28, 1)\n",
      "(60000, 10)\n",
      "Epoch 1/3\n",
      "937/937 [==============================] - 514s - loss: 14.5165 - acc: 0.0990 - val_loss: 14.5166 - val_acc: 0.0994\n",
      "Epoch 2/3\n",
      "937/937 [==============================] - 510s - loss: 14.5269 - acc: 0.0987 - val_loss: 14.3875 - val_acc: 0.1074\n",
      "Epoch 3/3\n",
      "937/937 [==============================] - 507s - loss: 14.5871 - acc: 0.0950 - val_loss: 14.4908 - val_acc: 0.1010\n"
     ]
    },
    {
     "data": {
      "text/plain": [
       "<keras.callbacks.History at 0x1984becf208>"
      ]
     },
     "execution_count": 4,
     "metadata": {},
     "output_type": "execute_result"
    }
   ],
   "source": [
    "from keras.datasets import mnist\n",
    "from keras.preprocessing.image import ImageDataGenerator\n",
    "from keras.utils import np_utils\n",
    "(x_train, y_train), (x_test, y_test) = mnist.load_data()\n",
    "print(y_test.shape)\n",
    "img_rows, img_cols = 28, 28\n",
    "nb_class = 10\n",
    "x_train = x_train.reshape(x_train.shape[0], img_rows, img_cols, 1)\n",
    "x_test = x_test.reshape(x_test.shape[0], img_rows, img_cols, 1)\n",
    "x_train = x_train.astype('float32')\n",
    "x_test = x_test.astype('float32')\n",
    "x_train/= 255\n",
    "x_test/= 255\n",
    "y_train = np_utils.to_categorical(y_train, nb_class)\n",
    "y_test = np_utils.to_categorical(y_test, nb_class)\n",
    "gen = ImageDataGenerator(rotation_range = 8,width_shift_range=0.08,shear_range= 0.3, height_shift_range= 0.08,zoom_range=0.08)\n",
    "test_gen = ImageDataGenerator()\n",
    "print(x_test.shape)                                                                                                                                         \n",
    "print(y_test.shape)\n",
    "print(x_train.shape)\n",
    "print(y_train.shape)\n",
    "train_generator = gen.flow(x_train,y_train,batch_size =4)\n",
    "test_generator = test_gen.flow(x_test,y_test,batch_size = 4)\n",
    "model.fit_generator(train_generator,steps_per_epoch =60000//64, epochs=3,validation_data= test_generator , validation_steps= 10000//64)\n",
    "\n",
    "\n"
   ]
  },
  {
   "cell_type": "code",
   "execution_count": null,
   "metadata": {},
   "outputs": [],
   "source": []
  }
 ],
 "metadata": {
  "kernelspec": {
   "display_name": "Python 3",
   "language": "python",
   "name": "python3"
  },
  "language_info": {
   "codemirror_mode": {
    "name": "ipython",
    "version": 3
   },
   "file_extension": ".py",
   "mimetype": "text/x-python",
   "name": "python",
   "nbconvert_exporter": "python",
   "pygments_lexer": "ipython3",
   "version": "3.5.4"
  }
 },
 "nbformat": 4,
 "nbformat_minor": 2
}
